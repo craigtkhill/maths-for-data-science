{
 "cells": [
  {
   "cell_type": "markdown",
   "id": "68736dce-cabb-438a-bdab-f3c33c86b420",
   "metadata": {},
   "source": [
    "# Essential Math for Data Science\n",
    "## Chapter 3 - Descriptive and Inferential Statistics"
   ]
  },
  {
   "cell_type": "code",
   "execution_count": 1,
   "id": "78a25fa9-71a4-4892-ad72-39c49246a27d",
   "metadata": {},
   "outputs": [],
   "source": [
    "import math"
   ]
  },
  {
   "cell_type": "code",
   "execution_count": 6,
   "id": "2cde51b7-00ee-4254-b027-914507393ffc",
   "metadata": {},
   "outputs": [],
   "source": [
    " def normal_probability_density_function(x: float, mean: float, std_dev: float) -> float:\n",
    "        return ((1.0 / (2.0 * math.pi * std_dev ** 2) **0.5) * \n",
    "        math.exp(-1.0 *((x - mean) **2 / (2.0 * std_dev **2))))"
   ]
  },
  {
   "cell_type": "code",
   "execution_count": 7,
   "id": "e06d333c-3292-462d-b9e0-e4e69212fb1d",
   "metadata": {},
   "outputs": [],
   "source": [
    "from scipy.stats import norm"
   ]
  },
  {
   "cell_type": "code",
   "execution_count": 8,
   "id": "5067a5e7-1f70-4a7f-a837-ed39143b2230",
   "metadata": {},
   "outputs": [],
   "source": [
    "mean = 64.43\n",
    "std_dev = 2.99"
   ]
  },
  {
   "cell_type": "code",
   "execution_count": 10,
   "id": "dcdebb72-a2b2-431b-87a0-04dbe6c70531",
   "metadata": {},
   "outputs": [
    {
     "data": {
      "text/plain": [
       "0.5"
      ]
     },
     "execution_count": 10,
     "metadata": {},
     "output_type": "execute_result"
    }
   ],
   "source": [
    "x = norm.cdf(64.43,mean, std_dev)\n",
    "x"
   ]
  },
  {
   "cell_type": "code",
   "execution_count": 12,
   "id": "1bdcd894-bbe6-4486-894e-72663e78f526",
   "metadata": {},
   "outputs": [
    {
     "data": {
      "text/plain": [
       "0.4920450147062894"
      ]
     },
     "execution_count": 12,
     "metadata": {},
     "output_type": "execute_result"
    }
   ],
   "source": [
    "x = norm.cdf(66,mean, std_dev) - norm.cdf(62,mean, std_dev)\n",
    "x"
   ]
  },
  {
   "cell_type": "markdown",
   "id": "06a068e9-df68-4c39-b489-846fcd39220f",
   "metadata": {},
   "source": [
    "probability of finding a golden retriever between two 66 and 62 pounds is 49%"
   ]
  },
  {
   "cell_type": "markdown",
   "id": "9c1722d3-14ca-43fc-9e54-bbab7c4cb809",
   "metadata": {},
   "source": [
    "to find the weight that 95% of retrievers fall under use the inverse of cdf (ppf)"
   ]
  },
  {
   "cell_type": "code",
   "execution_count": 13,
   "id": "da718ca8-cd07-4d8e-85f1-ebe27acddf6e",
   "metadata": {},
   "outputs": [
    {
     "data": {
      "text/plain": [
       "69.3481123445849"
      ]
     },
     "execution_count": 13,
     "metadata": {},
     "output_type": "execute_result"
    }
   ],
   "source": [
    "x = norm.ppf(.95, loc=64.43, scale=2.99)\n",
    "x"
   ]
  },
  {
   "cell_type": "markdown",
   "id": "f5c5179d-eb33-4119-a781-7c2ebe970543",
   "metadata": {},
   "source": [
    "random number generator using normal distribution"
   ]
  },
  {
   "cell_type": "code",
   "execution_count": 14,
   "id": "5bd2e4e3-1d9c-4b50-817d-df22976caaac",
   "metadata": {},
   "outputs": [],
   "source": [
    "import random"
   ]
  },
  {
   "cell_type": "code",
   "execution_count": 17,
   "id": "8ab2dce0-3bee-4c88-ab6d-ecd0d4caa4f8",
   "metadata": {},
   "outputs": [],
   "source": [
    "weights= []\n",
    "for i in range(1000):\n",
    "    random_p = random.uniform(0.0,1.0)\n",
    "    random_weight = norm.ppf(random_p, loc=64.43, scale=2.99)\n",
    "    weights.append(random_weight)"
   ]
  },
  {
   "cell_type": "code",
   "execution_count": 19,
   "id": "25430db6-ece2-49fa-8fe7-bc60a8ee86cc",
   "metadata": {},
   "outputs": [],
   "source": [
    "import matplotlib.pyplot as plt"
   ]
  },
  {
   "cell_type": "code",
   "execution_count": 32,
   "id": "52783ed1-8d1b-41fe-9f30-fa74300010a6",
   "metadata": {},
   "outputs": [
    {
     "data": {
      "image/png": "[encoded data removed]",
      "text/plain": [
       "<Figure size 432x288 with 1 Axes>"
      ]
     },
     "metadata": {
      "needs_background": "light"
     },
     "output_type": "display_data"
    }
   ],
   "source": [
    "plt.hist(weights, bins=20)\n",
    "plt.show()"
   ]
  },
  {
   "cell_type": "code",
   "execution_count": 33,
   "id": "4e88d921-465d-44d5-97f3-584622e8fdac",
   "metadata": {},
   "outputs": [],
   "source": [
    "def z_score(x,mean,std):\n",
    "    return (x - mean) / std"
   ]
  },
  {
   "cell_type": "code",
   "execution_count": 34,
   "id": "80dc71cb-5085-4e39-9091-d0a80bbdf0b7",
   "metadata": {},
   "outputs": [],
   "source": [
    "def z_to_x(z,mean,std):\n",
    "    return (z * std) + mean"
   ]
  },
  {
   "cell_type": "code",
   "execution_count": 37,
   "id": "766bc806-df71-4cf7-aa87-828cef194ca2",
   "metadata": {},
   "outputs": [],
   "source": [
    "mean = 140000\n",
    "std_dev = 3000\n",
    "x = 150000"
   ]
  },
  {
   "cell_type": "code",
   "execution_count": 38,
   "id": "a9e8e905-8fa0-48bb-af45-7a7cf00f5973",
   "metadata": {},
   "outputs": [
    {
     "data": {
      "text/plain": [
       "3.3333333333333335"
      ]
     },
     "execution_count": 38,
     "metadata": {},
     "output_type": "execute_result"
    }
   ],
   "source": [
    "z_score(x,mean,std_dev)"
   ]
  },
  {
   "cell_type": "code",
   "execution_count": 39,
   "id": "581ada9d-7c32-45bf-917e-a26fb2dd078e",
   "metadata": {},
   "outputs": [
    {
     "data": {
      "text/plain": [
       "150000.0"
      ]
     },
     "execution_count": 39,
     "metadata": {},
     "output_type": "execute_result"
    }
   ],
   "source": [
    "z_to_x(3.3333333333333335, mean, std_dev)"
   ]
  },
  {
   "cell_type": "code",
   "execution_count": 41,
   "id": "8d8c5ee4-32cf-4b56-8d93-ffe7d0165fed",
   "metadata": {},
   "outputs": [
    {
     "data": {
      "text/plain": [
       "0.02142857142857143"
      ]
     },
     "execution_count": 41,
     "metadata": {},
     "output_type": "execute_result"
    }
   ],
   "source": [
    "# covariation of variance = quantifies how spread out data are\n",
    "std_dev / mean"
   ]
  },
  {
   "cell_type": "code",
   "execution_count": null,
   "id": "723e797f-b7d3-4867-adf8-64c17127873e",
   "metadata": {},
   "outputs": [],
   "source": []
  }
 ],
 "metadata": {
  "kernelspec": {
   "display_name": "Python 3 (ipykernel)",
   "language": "python",
   "name": "python3"
  },
  "language_info": {
   "codemirror_mode": {
    "name": "ipython",
    "version": 3
   },
   "file_extension": ".py",
   "mimetype": "text/x-python",
   "name": "python",
   "nbconvert_exporter": "python",
   "pygments_lexer": "ipython3",
   "version": "3.9.12"
  }
 },
 "nbformat": 4,
 "nbformat_minor": 5
}
