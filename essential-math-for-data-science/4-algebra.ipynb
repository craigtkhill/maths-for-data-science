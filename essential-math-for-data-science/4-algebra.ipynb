{
 "cells": [
  {
   "cell_type": "markdown",
   "id": "27758a02-d9ea-4bf6-a46b-414870f059be",
   "metadata": {},
   "source": [
    "# Chapter 4 - Linear Algebra"
   ]
  },
  {
   "cell_type": "code",
   "execution_count": 1,
   "id": "77f24055-b385-4d72-a58a-c1ceaa4674f3",
   "metadata": {},
   "outputs": [
    {
     "name": "stdout",
     "output_type": "stream",
     "text": [
      "[4 1 2]\n"
     ]
    }
   ],
   "source": [
    "# 3 dimensional vector\n",
    "import numpy as np\n",
    "v = np.array([4, 1, 2])\n",
    "print(v)"
   ]
  },
  {
   "cell_type": "code",
   "execution_count": 2,
   "id": "1125e171-3d4c-4f66-b408-258bf91b1dd3",
   "metadata": {},
   "outputs": [
    {
     "name": "stdout",
     "output_type": "stream",
     "text": [
      "[6 1 5 8 3]\n"
     ]
    }
   ],
   "source": [
    "# 5 dimensional vector\n",
    "v = np.array([6, 1, 5, 8, 3])\n",
    "print(v)"
   ]
  },
  {
   "cell_type": "code",
   "execution_count": 4,
   "id": "42c6464f-3ee2-4d49-93f3-70f3e8e5a9eb",
   "metadata": {},
   "outputs": [
    {
     "name": "stdout",
     "output_type": "stream",
     "text": [
      "[5 1]\n"
     ]
    }
   ],
   "source": [
    "# vector addition\n",
    "v = np.array([3,2])\n",
    "w = np.array([2,-1])\n",
    "# sum the vectors\n",
    "v_plus_w = v + w\n",
    "# display summed vector\n",
    "print(v_plus_w) # [5, 1]"
   ]
  },
  {
   "cell_type": "code",
   "execution_count": 6,
   "id": "8283e127-6b06-4ee1-a7c3-871714696356",
   "metadata": {},
   "outputs": [
    {
     "name": "stdout",
     "output_type": "stream",
     "text": [
      "[6. 2.]\n"
     ]
    }
   ],
   "source": [
    "# scalar\n",
    "v = np.array([3,1])\n",
    "# scale the vector\n",
    "scaled_v = 2.0 * v\n",
    "# display scaled vector\n",
    "print(scaled_v) # [6 2]"
   ]
  },
  {
   "cell_type": "code",
   "execution_count": 7,
   "id": "4f9b9d52-acd6-4c8c-81a4-0f927d67c162",
   "metadata": {},
   "outputs": [
    {
     "name": "stdout",
     "output_type": "stream",
     "text": [
      "[3 2]\n"
     ]
    }
   ],
   "source": [
    "# compose basis matrix with i-hat and j-hat\n",
    "basis = np.array(\n",
    "[[3, 0],\n",
    "[0, 2]]\n",
    ")\n",
    "# declare vector v\n",
    "v = np.array([1,1])\n",
    "# create new vector\n",
    "# by transforming v with dot product\n",
    "new_v = basis.dot(v)\n",
    "print(new_v) # [3, 2]"
   ]
  },
  {
   "cell_type": "code",
   "execution_count": 8,
   "id": "a0b38c0b-13e8-47fa-8034-3cab75c45616",
   "metadata": {},
   "outputs": [
    {
     "name": "stdout",
     "output_type": "stream",
     "text": [
      "[2 3]\n"
     ]
    }
   ],
   "source": [
    "# Declare i-hat and j-hat\n",
    "i_hat = np.array([2, 0])\n",
    "j_hat = np.array([0, 3])\n",
    "# compose basis matrix using i-hat and j-hat\n",
    "# also need to transpose rows into columns\n",
    "basis = np.array([i_hat, j_hat]).transpose()\n",
    "# declare vector v\n",
    "v = np.array([1,1])\n",
    "# create new vector\n",
    "# by transforming v with dot product\n",
    "new_v = basis.dot(v)\n",
    "print(new_v) # [2, 3]"
   ]
  },
  {
   "cell_type": "code",
   "execution_count": 11,
   "id": "67c0bae7-cac3-4a07-8f4d-719139503c7e",
   "metadata": {},
   "outputs": [
    {
     "name": "stdout",
     "output_type": "stream",
     "text": [
      "[4 3]\n"
     ]
    }
   ],
   "source": [
    "# Declare i-hat and j-hat\n",
    "i_hat = np.array([2, 0])\n",
    "j_hat = np.array([0, 3])\n",
    "# compose basis matrix using i-hat and j-hat\n",
    "# also need to transpose rows into columns\n",
    "basis = np.array([i_hat, j_hat]).transpose()\n",
    "# declare vector v 0\n",
    "v = np.array([2,1])\n",
    "# create new vector\n",
    "# by transforming v with dot product\n",
    "new_v = basis.dot(v)\n",
    "print(new_v) # [4 3]"
   ]
  },
  {
   "cell_type": "code",
   "execution_count": 12,
   "id": "616eaec0-6695-4be3-bd49-3534d68724fb",
   "metadata": {},
   "outputs": [
    {
     "name": "stdout",
     "output_type": "stream",
     "text": [
      "[6 5]\n"
     ]
    }
   ],
   "source": [
    "from numpy import array\n",
    "# Declare i-hat and j-hat\n",
    "i_hat = array([2, 3])\n",
    "j_hat = array([2, -1])\n",
    "# compose basis matrix using i-hat and j-hat\n",
    "# also need to transpose rows into columns\n",
    "basis = array([i_hat, j_hat]).transpose()\n",
    "# declare vector v 0\n",
    "v = array([2,1])\n",
    "# create new vector\n",
    "# by transforming v with dot product\n",
    "new_v = basis.dot(v)\n",
    "print(new_v) # [6, 5]"
   ]
  },
  {
   "cell_type": "code",
   "execution_count": 13,
   "id": "c547ccd9-a643-4722-ba30-6677d4f2a1a8",
   "metadata": {},
   "outputs": [
    {
     "name": "stdout",
     "output_type": "stream",
     "text": [
      "COMBINED MATRIX:\n",
      " [[ 1 -1]\n",
      " [ 1  0]]\n",
      "[-1  1]\n"
     ]
    }
   ],
   "source": [
    "# Transformation 1\n",
    "i_hat1 = array([0, 1])\n",
    "j_hat1 = array([-1, 0])\n",
    "transform1 = array([i_hat1, j_hat1]).transpose()\n",
    "# Transformation 2\n",
    "i_hat2 = array([1, 0])\n",
    "j_hat2 = array([1, 1])\n",
    "transform2 = array([i_hat2, j_hat2]).transpose()\n",
    "# Combine Transformations\n",
    "combined = transform2 @ transform1\n",
    "# Test\n",
    "print(\"COMBINED MATRIX:\\n {}\".format(combined))\n",
    "v = array([1, 2])\n",
    "print(combined.dot(v)) # [-1 1]"
   ]
  },
  {
   "cell_type": "code",
   "execution_count": 14,
   "id": "9136e473-37ae-4319-8480-b6a06aa7f4d7",
   "metadata": {},
   "outputs": [
    {
     "name": "stdout",
     "output_type": "stream",
     "text": [
      "[-1  1]\n"
     ]
    }
   ],
   "source": [
    "rotated = transform1.dot(v)\n",
    "sheered = transform2.dot(rotated)\n",
    "print(sheered) # [-1 1]"
   ]
  },
  {
   "cell_type": "code",
   "execution_count": 15,
   "id": "7697468b-f330-4eaa-8a1c-5d9fe60d6f60",
   "metadata": {},
   "outputs": [
    {
     "name": "stdout",
     "output_type": "stream",
     "text": [
      "COMBINED MATRIX:\n",
      " [[ 0 -1]\n",
      " [ 1  1]]\n",
      "[-2  3]\n"
     ]
    }
   ],
   "source": [
    "# Transformation 1\n",
    "i_hat1 = array([0, 1])\n",
    "j_hat1 = array([-1, 0])\n",
    "transform1 = array([i_hat1, j_hat1]).transpose()\n",
    "# Transformation 2\n",
    "i_hat2 = array([1, 0])\n",
    "j_hat2 = array([1, 1])\n",
    "transform2 = array([i_hat2, j_hat2]).transpose()\n",
    "# Combine Transformations, apply sheer first and then rotation\n",
    "combined = transform1 @ transform2\n",
    "# Test\n",
    "print(\"COMBINED MATRIX:\\n {}\".format(combined))\n",
    "v = array([1, 2])\n",
    "print(combined.dot(v)) # [-2 3]"
   ]
  },
  {
   "cell_type": "code",
   "execution_count": 17,
   "id": "cd6ea7c9-17c0-47dd-a7fc-6e4db2cc0a90",
   "metadata": {},
   "outputs": [
    {
     "name": "stdout",
     "output_type": "stream",
     "text": [
      "6.0\n"
     ]
    }
   ],
   "source": [
    "from numpy.linalg import det\n",
    "from numpy import array\n",
    "i_hat = array([3, 0])\n",
    "j_hat = array([0, 2])\n",
    "basis = array([i_hat, j_hat]).transpose()\n",
    "\n",
    "determinant = det(basis)\n",
    "print(determinant) # prints 6.0"
   ]
  },
  {
   "cell_type": "code",
   "execution_count": 18,
   "id": "a0f40b46-a853-4df2-a994-d3e12846ce40",
   "metadata": {},
   "outputs": [
    {
     "name": "stdout",
     "output_type": "stream",
     "text": [
      "1.0\n"
     ]
    }
   ],
   "source": [
    "from numpy.linalg import det\n",
    "from numpy import array\n",
    "i_hat = array([1, 0])\n",
    "j_hat = array([1, 1])\n",
    "basis = array([i_hat, j_hat]).transpose()\n",
    "determinant = det(basis)\n",
    "print(determinant) # prints 1.0"
   ]
  },
  {
   "cell_type": "code",
   "execution_count": 19,
   "id": "05fa568e-3b50-47c9-b0a9-33c09cbb58a0",
   "metadata": {},
   "outputs": [
    {
     "name": "stdout",
     "output_type": "stream",
     "text": [
      "-5.000000000000001\n"
     ]
    }
   ],
   "source": [
    "from numpy.linalg import det\n",
    "from numpy import array\n",
    "i_hat = array([-2, 1])\n",
    "j_hat = array([1, 2])\n",
    "basis = array([i_hat, j_hat]).transpose()\n",
    "determinant = det(basis)\n",
    "print(determinant) # prints -5.0"
   ]
  },
  {
   "cell_type": "code",
   "execution_count": 20,
   "id": "e6db52dd-af4b-4b12-a909-b90ec9314511",
   "metadata": {},
   "outputs": [
    {
     "name": "stdout",
     "output_type": "stream",
     "text": [
      "0.0\n"
     ]
    }
   ],
   "source": [
    "i_hat = array([-2, 1])\n",
    "j_hat = array([3, -1.5])\n",
    "basis = array([i_hat, j_hat]).transpose()\n",
    "determinant = det(basis)\n",
    "print(determinant) # prints 0.0"
   ]
  },
  {
   "cell_type": "code",
   "execution_count": 21,
   "id": "16b24297-1245-42a0-82b5-b3b9825255d0",
   "metadata": {},
   "outputs": [
    {
     "name": "stdout",
     "output_type": "stream",
     "text": [
      "INVERSE: Matrix([[-1/2, 0, 1/3], [11/2, -2, -4/3], [-2, 1, 1/3]])\n",
      "IDENTITY: Matrix([[1, 0, 0], [0, 1, 0], [0, 0, 1]])\n"
     ]
    }
   ],
   "source": [
    "from sympy import *\n",
    "# 4x + 2y + 4z = 44\n",
    "# 5x + 3y + 7z = 56\n",
    "# 9x + 3y + 6z = 72\n",
    "A = Matrix([\n",
    "[4, 2, 4],\n",
    "[5, 3, 7],\n",
    "[9, 3, 6]\n",
    "])\n",
    "# dot product between A and its inverse\n",
    "# will produce identity function\n",
    "inverse = A.inv()\n",
    "identity = inverse * A\n",
    "# prints Matrix([[-1/2, 0, 1/3], [11/2, -2, -4/3], [-2, 1, 1/3]])\n",
    "print(\"INVERSE: {}\".format(inverse))\n",
    "# prints Matrix([[1, 0, 0], [0, 1, 0], [0, 0, 1]])\n",
    "print(\"IDENTITY: {}\".format(identity))"
   ]
  },
  {
   "cell_type": "code",
   "execution_count": 22,
   "id": "85411bb8-837c-434e-b313-69abe56ba0ba",
   "metadata": {},
   "outputs": [
    {
     "name": "stdout",
     "output_type": "stream",
     "text": [
      "[ 2. 34. -8.]\n"
     ]
    }
   ],
   "source": [
    "from numpy import array\n",
    "from numpy.linalg import inv\n",
    "# 4x + 2y + 4z = 44\n",
    "# 5x + 3y + 7z = 56\n",
    "# 9x + 3y + 6z = 72\n",
    "A = array([\n",
    "[4, 2, 4],\n",
    "[5, 3, 7],\n",
    "[9, 3, 6]\n",
    "])\n",
    "B = array([\n",
    "44,\n",
    "56,\n",
    "72\n",
    "])\n",
    "X = inv(A).dot(B)\n",
    "print(X) # [ 2. 34. -8.]"
   ]
  },
  {
   "cell_type": "code",
   "execution_count": 23,
   "id": "dff53ca7-acfe-41fe-9fb7-6531057417ec",
   "metadata": {},
   "outputs": [
    {
     "name": "stdout",
     "output_type": "stream",
     "text": [
      "Matrix([[2], [34], [-8]])\n"
     ]
    }
   ],
   "source": [
    "from sympy import *\n",
    "# 4x + 2y + 4z = 44\n",
    "# 5x + 3y + 7z = 56\n",
    "# 9x + 3y + 6z = 72\n",
    "A = Matrix([\n",
    "[4, 2, 4],\n",
    "[5, 3, 7],\n",
    "[9, 3, 6]\n",
    "    ])\n",
    "B = Matrix([\n",
    "44,\n",
    "56,\n",
    "72\n",
    "])\n",
    "X = A.inv() * B\n",
    "print(X) # Matrix([[2], [34], [-8]])"
   ]
  },
  {
   "cell_type": "code",
   "execution_count": 24,
   "id": "80e88c3a-2e43-4613-a489-aa4c6adf7925",
   "metadata": {},
   "outputs": [],
   "source": [
    "# eigenvectors"
   ]
  },
  {
   "cell_type": "code",
   "execution_count": null,
   "id": "74115272-7f3b-47f4-bf7b-5c7c9529514f",
   "metadata": {},
   "outputs": [],
   "source": []
  }
 ],
 "metadata": {
  "kernelspec": {
   "display_name": "Python 3 (ipykernel)",
   "language": "python",
   "name": "python3"
  },
  "language_info": {
   "codemirror_mode": {
    "name": "ipython",
    "version": 3
   },
   "file_extension": ".py",
   "mimetype": "text/x-python",
   "name": "python",
   "nbconvert_exporter": "python",
   "pygments_lexer": "ipython3",
   "version": "3.9.12"
  }
 },
 "nbformat": 4,
 "nbformat_minor": 5
}
