{
 "cells": [
  {
   "cell_type": "markdown",
   "id": "0e9cb08a-86e1-4350-a6fa-c21a022960e3",
   "metadata": {},
   "source": [
    "# Essential Math for Data Science\n",
    "## Chapter 2 - Probability"
   ]
  },
  {
   "cell_type": "markdown",
   "id": "98fef028-c977-4e8e-99b6-3c6652c997ed",
   "metadata": {},
   "source": [
    "bayes theorem in python"
   ]
  },
  {
   "cell_type": "code",
   "execution_count": 1,
   "id": "e12d6954-1454-4b92-a0bd-dc398faec76a",
   "metadata": {},
   "outputs": [],
   "source": [
    "p_coffee_drinker = .65\n",
    "p_cancer = .005\n",
    "p_coffee_drinker_given_cancer = .85"
   ]
  },
  {
   "cell_type": "code",
   "execution_count": 2,
   "id": "8591e011-28aa-4b29-bfed-b0d6c35bb654",
   "metadata": {},
   "outputs": [],
   "source": [
    "p_cancer_given_coffee_drinker = p_coffee_drinker_given_cancer * p_cancer / p_coffee_drinker"
   ]
  },
  {
   "cell_type": "code",
   "execution_count": 3,
   "id": "f4adea50-bbae-46f4-8b57-2b4779077bdf",
   "metadata": {},
   "outputs": [
    {
     "data": {
      "text/plain": [
       "0.006538461538461539"
      ]
     },
     "execution_count": 3,
     "metadata": {},
     "output_type": "execute_result"
    }
   ],
   "source": [
    "p_cancer_given_coffee_drinker"
   ]
  },
  {
   "cell_type": "code",
   "execution_count": 4,
   "id": "6cd4a9b0-c3af-490c-95dd-53a0bde06d1b",
   "metadata": {},
   "outputs": [
    {
     "data": {
      "text/plain": [
       "0.00425"
      ]
     },
     "execution_count": 4,
     "metadata": {},
     "output_type": "execute_result"
    }
   ],
   "source": [
    "# probability of having cancer and being a coffee drinker\n",
    "p_coffee_drinker_given_cancer * p_cancer"
   ]
  },
  {
   "cell_type": "code",
   "execution_count": 6,
   "id": "57556998-4a58-4a50-8210-d3f5acddfcf0",
   "metadata": {},
   "outputs": [
    {
     "data": {
      "text/plain": [
       "0.0032500000000000003"
      ]
     },
     "execution_count": 6,
     "metadata": {},
     "output_type": "execute_result"
    }
   ],
   "source": [
    "# probability of being a coffee drinker and having cancer / without conditional probabilities\n",
    "p_coffee_drinker * p_cancer"
   ]
  },
  {
   "cell_type": "markdown",
   "id": "85d5ffb8-58e0-48b7-8ec4-10a3ed419662",
   "metadata": {},
   "source": [
    "## Binomial Distribution"
   ]
  },
  {
   "cell_type": "code",
   "execution_count": 2,
   "id": "75f13bbc-d91d-4673-97c3-472778d29fb4",
   "metadata": {},
   "outputs": [],
   "source": [
    "from scipy.stats import binom"
   ]
  },
  {
   "cell_type": "code",
   "execution_count": 3,
   "id": "37f6cefd-2a69-49e8-892f-1a465658a1da",
   "metadata": {},
   "outputs": [],
   "source": [
    "n = 10\n",
    "p = .9"
   ]
  },
  {
   "cell_type": "code",
   "execution_count": 5,
   "id": "b4f7217e-a6f7-4a6a-8138-a9e05050dd53",
   "metadata": {},
   "outputs": [
    {
     "name": "stdout",
     "output_type": "stream",
     "text": [
      "0 - 9.999999999999978e-11\n",
      "1 - 8.999999999999978e-09\n",
      "2 - 3.6449999999999943e-07\n",
      "3 - 8.747999999999991e-06\n",
      "4 - 0.00013778099999999974\n",
      "5 - 0.0014880347999999982\n",
      "6 - 0.011160260999999996\n",
      "7 - 0.05739562799999997\n",
      "8 - 0.1937102444999998\n",
      "9 - 0.38742048899999976\n",
      "10 - 0.3486784401000001\n"
     ]
    }
   ],
   "source": [
    "for k in range(n+1):\n",
    "    probability = binom.pmf(k,n,p) # probability mass function\n",
    "    print(f\"{k} - {probability}\")"
   ]
  },
  {
   "cell_type": "markdown",
   "id": "9b393cef-f121-4006-ab3a-dd8d26db4222",
   "metadata": {},
   "source": [
    "## Beta Distribution"
   ]
  },
  {
   "cell_type": "code",
   "execution_count": 6,
   "id": "5caad9f6-7ef5-4a87-aea5-39652d1471a1",
   "metadata": {},
   "outputs": [],
   "source": [
    "from scipy.stats import beta"
   ]
  },
  {
   "cell_type": "code",
   "execution_count": 7,
   "id": "2115e837-0a77-40d2-acb0-d7095dc101a1",
   "metadata": {},
   "outputs": [],
   "source": [
    "a = 8\n",
    "b =2"
   ]
  },
  {
   "cell_type": "code",
   "execution_count": 8,
   "id": "6edd6360-f8ef-4748-832a-b9f868f5a646",
   "metadata": {},
   "outputs": [],
   "source": [
    "p = beta.cdf(.90, a,b) # cumulative density function"
   ]
  },
  {
   "cell_type": "code",
   "execution_count": 10,
   "id": "54dc0123-b1f1-478a-9da5-ba8dcb5088b9",
   "metadata": {},
   "outputs": [
    {
     "data": {
      "text/plain": [
       "0.7748409780000002"
      ]
     },
     "execution_count": 10,
     "metadata": {},
     "output_type": "execute_result"
    }
   ],
   "source": [
    "p # probability of success 90% or less"
   ]
  },
  {
   "cell_type": "code",
   "execution_count": 12,
   "id": "3ab98e6f-189b-4cc0-a902-9a6c076798ae",
   "metadata": {},
   "outputs": [
    {
     "data": {
      "text/plain": [
       "0.22515902199999982"
      ]
     },
     "execution_count": 12,
     "metadata": {},
     "output_type": "execute_result"
    }
   ],
   "source": [
    " 1 - p # probability success being 90% or more"
   ]
  },
  {
   "cell_type": "code",
   "execution_count": 13,
   "id": "aef97627-ca15-4454-bd04-4bbd28cb44c4",
   "metadata": {},
   "outputs": [],
   "source": [
    "p = beta.cdf(.9, a,b) - beta.cdf(.8,a,b)"
   ]
  },
  {
   "cell_type": "code",
   "execution_count": 14,
   "id": "244c7837-2b1c-4f0f-9bd7-e7206207171b",
   "metadata": {},
   "outputs": [
    {
     "data": {
      "text/plain": [
       "0.33863336199999994"
      ]
     },
     "execution_count": 14,
     "metadata": {},
     "output_type": "execute_result"
    }
   ],
   "source": [
    "p # probability of success between 80-90%"
   ]
  },
  {
   "cell_type": "markdown",
   "id": "8e59c74f-3722-4031-98fc-ccd151401318",
   "metadata": {},
   "source": [
    "## Exercises"
   ]
  },
  {
   "cell_type": "code",
   "execution_count": 18,
   "id": "5d8153c7-8e92-4aab-bfe1-97e5d92061ee",
   "metadata": {},
   "outputs": [
    {
     "data": {
      "text/plain": [
       "0.12"
      ]
     },
     "execution_count": 18,
     "metadata": {},
     "output_type": "execute_result"
    }
   ],
   "source": [
    "(.30 * .40) # probability of rain and umbrella"
   ]
  },
  {
   "cell_type": "code",
   "execution_count": 21,
   "id": "52260af2-62df-4740-90bc-c91d41ef781d",
   "metadata": {},
   "outputs": [
    {
     "data": {
      "text/plain": [
       "0.9800000000000001"
      ]
     },
     "execution_count": 21,
     "metadata": {},
     "output_type": "execute_result"
    }
   ],
   "source": [
    "(1 - .30) + .40 - (.3 * .4) # rain will not or umbrella"
   ]
  },
  {
   "cell_type": "code",
   "execution_count": 22,
   "id": "ba2c1585-7aaf-4273-bec5-51007f4258a0",
   "metadata": {},
   "outputs": [
    {
     "data": {
      "text/plain": [
       "0.06"
      ]
     },
     "execution_count": 22,
     "metadata": {},
     "output_type": "execute_result"
    }
   ],
   "source": [
    "0.3 * 0.2 # if probability is 20%"
   ]
  },
  {
   "cell_type": "code",
   "execution_count": 29,
   "id": "672dac00-12eb-4ff9-9833-392d0a7f3490",
   "metadata": {},
   "outputs": [],
   "source": [
    "n = 137\n",
    "p = .4\n",
    "p_50_or_more_no_shows = 0"
   ]
  },
  {
   "cell_type": "code",
   "execution_count": 30,
   "id": "794399ff-27e5-46fc-aeac-011a5bff66de",
   "metadata": {},
   "outputs": [],
   "source": [
    "for k in range(50,137):\n",
    "    p_50_or_more_no_shows += binom.pmf(k,n,p) # probability mass function"
   ]
  },
  {
   "cell_type": "code",
   "execution_count": 31,
   "id": "37c36dc4-3a4a-4017-9afc-7c7aa8753f5f",
   "metadata": {},
   "outputs": [
    {
     "data": {
      "text/plain": [
       "0.8220955881474254"
      ]
     },
     "execution_count": 31,
     "metadata": {},
     "output_type": "execute_result"
    }
   ],
   "source": [
    "p_50_or_more_no_shows"
   ]
  },
  {
   "cell_type": "code",
   "execution_count": 38,
   "id": "555d7d3c-c8d6-47e6-8c4a-839b7bf221bd",
   "metadata": {},
   "outputs": [],
   "source": [
    "heads = 15\n",
    "tails = 4\n",
    "p = 1 -beta.cdf(.50, a,b)"
   ]
  },
  {
   "cell_type": "code",
   "execution_count": 39,
   "id": "7bec9061-321a-4f59-b4aa-c881533ed293",
   "metadata": {},
   "outputs": [
    {
     "data": {
      "text/plain": [
       "0.9962310791015625"
      ]
     },
     "execution_count": 39,
     "metadata": {},
     "output_type": "execute_result"
    }
   ],
   "source": [
    "p # unfair coin probability"
   ]
  },
  {
   "cell_type": "code",
   "execution_count": null,
   "id": "c6c841fe-7be8-4bf5-b0bf-c1345828fceb",
   "metadata": {},
   "outputs": [],
   "source": []
  }
 ],
 "metadata": {
  "kernelspec": {
   "display_name": "Python 3 (ipykernel)",
   "language": "python",
   "name": "python3"
  },
  "language_info": {
   "codemirror_mode": {
    "name": "ipython",
    "version": 3
   },
   "file_extension": ".py",
   "mimetype": "text/x-python",
   "name": "python",
   "nbconvert_exporter": "python",
   "pygments_lexer": "ipython3",
   "version": "3.9.12"
  }
 },
 "nbformat": 4,
 "nbformat_minor": 5
}
