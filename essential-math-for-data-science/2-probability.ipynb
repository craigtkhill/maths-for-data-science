{
 "cells": [
  {
   "cell_type": "markdown",
   "id": "0e9cb08a-86e1-4350-a6fa-c21a022960e3",
   "metadata": {},
   "source": [
    "# Essential Math for Data Science\n",
    "## Chapter 2 - Probability"
   ]
  },
  {
   "cell_type": "markdown",
   "id": "98fef028-c977-4e8e-99b6-3c6652c997ed",
   "metadata": {},
   "source": [
    "bayes theorem in python"
   ]
  },
  {
   "cell_type": "code",
   "execution_count": 1,
   "id": "e12d6954-1454-4b92-a0bd-dc398faec76a",
   "metadata": {},
   "outputs": [],
   "source": [
    "p_coffee_drinker = .65\n",
    "p_cancer = .005\n",
    "p_coffee_drinker_given_cancer = .85"
   ]
  },
  {
   "cell_type": "code",
   "execution_count": 2,
   "id": "8591e011-28aa-4b29-bfed-b0d6c35bb654",
   "metadata": {},
   "outputs": [],
   "source": [
    "p_cancer_given_coffee_drinker = p_coffee_drinker_given_cancer * p_cancer / p_coffee_drinker"
   ]
  },
  {
   "cell_type": "code",
   "execution_count": 3,
   "id": "f4adea50-bbae-46f4-8b57-2b4779077bdf",
   "metadata": {},
   "outputs": [
    {
     "data": {
      "text/plain": [
       "0.006538461538461539"
      ]
     },
     "execution_count": 3,
     "metadata": {},
     "output_type": "execute_result"
    }
   ],
   "source": [
    "p_cancer_given_coffee_drinker"
   ]
  },
  {
   "cell_type": "code",
   "execution_count": 4,
   "id": "6cd4a9b0-c3af-490c-95dd-53a0bde06d1b",
   "metadata": {},
   "outputs": [
    {
     "data": {
      "text/plain": [
       "0.00425"
      ]
     },
     "execution_count": 4,
     "metadata": {},
     "output_type": "execute_result"
    }
   ],
   "source": [
    "# probability of having cancer and being a coffee drinker\n",
    "p_coffee_drinker_given_cancer * p_cancer"
   ]
  },
  {
   "cell_type": "code",
   "execution_count": 6,
   "id": "57556998-4a58-4a50-8210-d3f5acddfcf0",
   "metadata": {},
   "outputs": [
    {
     "data": {
      "text/plain": [
       "0.0032500000000000003"
      ]
     },
     "execution_count": 6,
     "metadata": {},
     "output_type": "execute_result"
    }
   ],
   "source": [
    "# probability of being a coffee drinker and having cancer / without conditional probabilities\n",
    "p_coffee_drinker * p_cancer"
   ]
  }
 ],
 "metadata": {
  "kernelspec": {
   "display_name": "Python 3 (ipykernel)",
   "language": "python",
   "name": "python3"
  },
  "language_info": {
   "codemirror_mode": {
    "name": "ipython",
    "version": 3
   },
   "file_extension": ".py",
   "mimetype": "text/x-python",
   "name": "python",
   "nbconvert_exporter": "python",
   "pygments_lexer": "ipython3",
   "version": "3.9.12"
  }
 },
 "nbformat": 4,
 "nbformat_minor": 5
}
